{
 "cells": [
  {
   "cell_type": "code",
   "execution_count": 2,
   "id": "b70e93ee",
   "metadata": {},
   "outputs": [],
   "source": [
    "import pandas as pd"
   ]
  },
  {
   "cell_type": "code",
   "execution_count": null,
   "id": "c79fb6bf",
   "metadata": {},
   "outputs": [],
   "source": [
    "csvfile = \"/Users/alifabdullah/Collaboration/Kaggle-ML-Algorithm-Musings/datasets/diabetes.csv\"\n",
    "csv_in_panda_form = pd.read_csv(csvfile)\n",
    "target_column = \"Outcome\"\n",
    "feature_columns = [feature_header for feature_header in csv_in_panda_form.columns.drop(target_column)]\n",
    "\n",
    "#print(csv_in_panda_form)\n",
    "#print(feature_columns)\n",
    "\n",
    "for row in csv_in_panda_form.iterrows():\n",
    "  print(row[1][\"Outcome\"])\n",
    "  \n",
    "  \n"
   ]
  },
  {
   "cell_type": "code",
   "execution_count": 26,
   "id": "f34b92ed",
   "metadata": {},
   "outputs": [
    {
     "data": {
      "text/plain": [
       "{0: 500, 1: 268}"
      ]
     },
     "execution_count": 26,
     "metadata": {},
     "output_type": "execute_result"
    }
   ],
   "source": [
    "def dataset_consistency_metrics(dataframe, list_of_labels, target_column):\n",
    "  label_count_mapping_dict = dict()\n",
    "  for key in list_of_labels:\n",
    "    label_count_mapping_dict[key] = 0\n",
    "  \n",
    "  for row in dataframe.iterrows():\n",
    "    label_count_mapping_dict[row[1][target_column]] += 1 \n",
    "  return label_count_mapping_dict\n",
    "\n",
    "dataset_consistency_metrics(csv_in_panda_form, [0,1], \"Outcome\")"
   ]
  }
 ],
 "metadata": {
  "kernelspec": {
   "display_name": "ml-kaggle",
   "language": "python",
   "name": "python3"
  },
  "language_info": {
   "codemirror_mode": {
    "name": "ipython",
    "version": 3
   },
   "file_extension": ".py",
   "mimetype": "text/x-python",
   "name": "python",
   "nbconvert_exporter": "python",
   "pygments_lexer": "ipython3",
   "version": "3.10.17"
  }
 },
 "nbformat": 4,
 "nbformat_minor": 5
}
