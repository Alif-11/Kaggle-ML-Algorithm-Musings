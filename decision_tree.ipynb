{
 "cells": [
  {
   "cell_type": "code",
   "execution_count": 6,
   "id": "b70e93ee",
   "metadata": {},
   "outputs": [],
   "source": [
    "import pandas as pd"
   ]
  },
  {
   "cell_type": "code",
   "execution_count": 8,
   "id": "c79fb6bf",
   "metadata": {},
   "outputs": [
    {
     "name": "stdout",
     "output_type": "stream",
     "text": [
      "111\n",
      "[ 6  1  8  0  5  3 10  2  4  7  9 11 13 15 17 12 14]\n",
      "Pregnancies                   6.000\n",
      "Glucose                     148.000\n",
      "BloodPressure                72.000\n",
      "SkinThickness                35.000\n",
      "Insulin                       0.000\n",
      "BMI                          33.600\n",
      "DiabetesPedigreeFunction      0.627\n",
      "Age                          50.000\n",
      "Outcome                       1.000\n",
      "Name: 0, dtype: float64\n"
     ]
    }
   ],
   "source": [
    "csvfile = \"/Users/alifabdullah/Collaboration/Kaggle-ML-Algorithm-Musings/datasets/diabetes.csv\"\n",
    "csv_in_panda_form = pd.read_csv(csvfile)\n",
    "target_column = \"Outcome\"\n",
    "feature_columns = [feature_header for feature_header in csv_in_panda_form.columns.drop(target_column)]\n",
    "\n",
    "#print(csv_in_panda_form)\n",
    "#print(feature_columns)\n",
    "\n",
    "#for row in csv_in_panda_form.iterrows():\n",
    "#  print(row[1][\"Outcome\"])\n",
    "\n",
    "print(len(csv_in_panda_form[csv_in_panda_form[\"Pregnancies\"] == 0]))\n",
    "print((csv_in_panda_form[\"Pregnancies\"].unique()))\n",
    "print(csv_in_panda_form.iloc[0])\n",
    "  \n"
   ]
  },
  {
   "cell_type": "code",
   "execution_count": 24,
   "id": "f34b92ed",
   "metadata": {},
   "outputs": [
    {
     "name": "stdout",
     "output_type": "stream",
     "text": [
      "268\n",
      "242\n"
     ]
    }
   ],
   "source": [
    "def _dataset_error_calculator(dataframe, list_of_labels, target_column, feature=None):\n",
    "  if feature is not None:\n",
    "    unique_feature_values = dataframe[feature].unique()\n",
    "    error_sum = 0\n",
    "    for feature_value in unique_feature_values:\n",
    "      current_df = dataframe[dataframe[feature] == feature_value]\n",
    "      current_df_error, label_to_count_mapping_dictionary_current_df = _dataset_consistency_metrics(current_df, list_of_labels, target_column)\n",
    "      error_sum += current_df_error\n",
    "    return error_sum\n",
    "  else:\n",
    "    error, label_to_count_mapping_dictionary = _dataset_consistency_metrics(dataframe, list_of_labels, target_column)\n",
    "    return error\n",
    "    \n",
    "\n",
    "def _dataset_consistency_metrics(dataframe, list_of_labels, target_column):\n",
    "  \"\"\"\n",
    "  Tells you the counts of instances, in a dataset, corresponding to labels, as \n",
    "  well as the error of the dataset, where the error is calculated as the number\n",
    "  of dataset instances corresponding to the label with the least instances.\n",
    "\n",
    "  Args:\n",
    "    dataframe - A Pandas DataFrame, representing our dataset\n",
    "    list_of_labels - List of labels that represents all labels that could be assigned (replaced by self.list_of_labels going forward)\n",
    "    target_column: The name of the column we are trying to predict (replaced by self.target_column going forward)\n",
    "  \n",
    "  Returns:\n",
    "    error - The error, as defined above\n",
    "    label_counts - A dictionary mapping between labels and their respective counts\n",
    "  \"\"\"\n",
    "  label_count_mapping_dict = dict()\n",
    "  for key in list_of_labels:\n",
    "    label_count_mapping_dict[key] = 0\n",
    "  \n",
    "  for row in dataframe.iterrows():\n",
    "    label_count_mapping_dict[row[1][target_column]] += 1 \n",
    "  \n",
    "  error = float(\"inf\")\n",
    "  for key in list_of_labels:\n",
    "    if label_count_mapping_dict[key] < error:\n",
    "      error = label_count_mapping_dict[key]\n",
    "  return error, label_count_mapping_dict\n",
    "\n",
    "print(_dataset_error_calculator(csv_in_panda_form, [0,1], \"Outcome\", None))\n",
    "print(_dataset_error_calculator(csv_in_panda_form,[0,1],\"Outcome\",\"Pregnancies\"))"
   ]
  }
 ],
 "metadata": {
  "kernelspec": {
   "display_name": "ml-kaggle",
   "language": "python",
   "name": "python3"
  },
  "language_info": {
   "codemirror_mode": {
    "name": "ipython",
    "version": 3
   },
   "file_extension": ".py",
   "mimetype": "text/x-python",
   "name": "python",
   "nbconvert_exporter": "python",
   "pygments_lexer": "ipython3",
   "version": "3.10.17"
  }
 },
 "nbformat": 4,
 "nbformat_minor": 5
}
