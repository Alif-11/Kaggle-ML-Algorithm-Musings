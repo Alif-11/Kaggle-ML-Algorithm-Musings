{
 "cells": [
  {
   "cell_type": "code",
   "execution_count": null,
   "id": "3bb712ea",
   "metadata": {},
   "outputs": [],
   "source": [
    "# This code block will contain implementations of the KNN algorithm and some of its variants.\n",
    "import numpy as np\n",
    "import pandas as pd\n",
    "class KNN:\n",
    "  def __init__(self, k):\n",
    "    \"\"\"\n",
    "    Pass in one argument - k, the number of nearest neighbors to consider.\n",
    "\n",
    "    You have access to the following variables:\n",
    "    self.k - the number of nearest neighbors to consider\n",
    "    self.training_set - the training set we will inevitably pass to this algorithm. This variable is instantiated as an empty Pandas Dataframe\n",
    "    \"\"\"\n",
    "    self.k = k\n",
    "    self.training_set = pd.DataFrame()\n",
    "  \n",
    "  def train(self, csvfile):\n",
    "    \"\"\"\n",
    "    Takes in:\n",
    "      csvfile - A string path to the csv file we want to take in. We desire an absolute path.\n",
    "    \n",
    "    Outputs:\n",
    "      Nothing\n",
    "    \n",
    "    Side effects:\n",
    "      self.training_set = csv_in_panda_form, where\n",
    "      * csv_in_panda_form is a pandas dataframe that contains the information from the linked csv file.\n",
    "    \"\"\"\n",
    "    csv_in_panda_form = pd.read_csv(csvfile)\n",
    "    self.training_set = csv_in_panda_form\n",
    "  \n",
    "  def nearestNeighbors(self, x):\n",
    "    \"\"\"\n",
    "    Goes through every row to find the k nearest neighbors of testing instnace x\n",
    "    \"\"\"\n",
    "    pass\n"
   ]
  },
  {
   "cell_type": "code",
   "execution_count": null,
   "id": "e4796ac6",
   "metadata": {},
   "outputs": [
    {
     "name": "stdout",
     "output_type": "stream",
     "text": [
      "Print the panda-fied csv file:    Pregnancies  Glucose  BloodPressure  SkinThickness  Insulin   BMI  \\\n",
      "0            6      148             72             35        0  33.6   \n",
      "1            1       85             66             29        0  26.6   \n",
      "2            8      183             64              0        0  23.3   \n",
      "3            1       89             66             23       94  28.1   \n",
      "4            0      137             40             35      168  43.1   \n",
      "\n",
      "   DiabetesPedigreeFunction  Age  Outcome  \n",
      "0                     0.627   50        1  \n",
      "1                     0.351   31        0  \n",
      "2                     0.672   32        1  \n",
      "3                     0.167   21        0  \n",
      "4                     2.288   33        1  \n",
      "Length of the panda-fied csv file: 768\n",
      "Set of discrete labels in the target column of the panda-fied csv file: [1 0]\n",
      "Discrete labels: 0\n"
     ]
    }
   ],
   "source": [
    "# This code block acts as a kind of main function, running code to use the larger class.\n",
    "\n",
    "knn_classifier = KNN(2)\n",
    "pandafied_csv = knn_classifier.intake_csv(\"/Users/alifabdullah/Collaboration/Kaggle-ML-Algorithm-Musings/datasets/diabetes.csv\")\n",
    "print(f\"Print the panda-fied csv file: {pandafied_csv.head()}\")\n",
    "print(f\"Length of the panda-fied csv file: {len(pandafied_csv)}\")\n",
    "print(f\"Set of discrete labels in the target column of the panda-fied csv file: {pandafied_csv['Outcome'].unique()}\")\n",
    "# 1 means they have diabetes\n",
    "\n",
    "discrete_labels = pandafied_csv['Outcome'].unique()\n",
    "\n",
    "\n"
   ]
  }
 ],
 "metadata": {
  "kernelspec": {
   "display_name": "ml-kaggle",
   "language": "python",
   "name": "python3"
  },
  "language_info": {
   "codemirror_mode": {
    "name": "ipython",
    "version": 3
   },
   "file_extension": ".py",
   "mimetype": "text/x-python",
   "name": "python",
   "nbconvert_exporter": "python",
   "pygments_lexer": "ipython3",
   "version": "3.10.17"
  }
 },
 "nbformat": 4,
 "nbformat_minor": 5
}
